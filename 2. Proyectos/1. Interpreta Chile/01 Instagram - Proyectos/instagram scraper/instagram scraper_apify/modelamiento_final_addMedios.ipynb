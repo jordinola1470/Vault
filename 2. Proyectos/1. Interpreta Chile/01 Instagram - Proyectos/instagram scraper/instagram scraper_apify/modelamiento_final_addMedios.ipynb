{
 "cells": [
  {
   "cell_type": "code",
   "execution_count": 1,
   "metadata": {},
   "outputs": [],
   "source": [
    "import pandas as pd\n",
    "import os"
   ]
  },
  {
   "cell_type": "code",
   "execution_count": 2,
   "metadata": {},
   "outputs": [],
   "source": [
    "#FECHA DE ARCHIVOS A CONSOLIDAR\n",
    "ArchivoFecha = '160325'"
   ]
  },
  {
   "cell_type": "code",
   "execution_count": 3,
   "metadata": {},
   "outputs": [],
   "source": [
    "#ARCHIVO SCRAP POST\n",
    "medios = pd.read_excel(f\"{ArchivoFecha}_posts.xlsx\")[[\"url\",\"ownerFullName\"]].fillna('-')\n",
    "\n",
    "#ARCHIVO SCRAP COMENTS\n",
    "comments = pd.read_excel(f'{ArchivoFecha}_comments.xlsx')[['ownerUsername','text','timestamp','likesCount', 'postUrl',]].fillna('-')\n",
    "comments.columns = ['Usuario','Comentario','Hora','Reacciones','url_instagram']"
   ]
  },
  {
   "cell_type": "code",
   "execution_count": 4,
   "metadata": {},
   "outputs": [],
   "source": [
    "#ARCHIVO INSGRAM_{FECHA}\n",
    "\n",
    "instaFecha = pd.merge(left=comments,right=medios,left_on='url_instagram',right_on='url',how='left')\n",
    "instaFecha.drop('url',axis=1,inplace=True)\n",
    "\n",
    "\n",
    "\n",
    "instaFecha.to_excel(\"archivo_unido.xlsx\",index=False)"
   ]
  }
 ],
 "metadata": {
  "kernelspec": {
   "display_name": "Python 3",
   "language": "python",
   "name": "python3"
  },
  "language_info": {
   "codemirror_mode": {
    "name": "ipython",
    "version": 3
   },
   "file_extension": ".py",
   "mimetype": "text/x-python",
   "name": "python",
   "nbconvert_exporter": "python",
   "pygments_lexer": "ipython3",
   "version": "3.11.5"
  }
 },
 "nbformat": 4,
 "nbformat_minor": 2
}
