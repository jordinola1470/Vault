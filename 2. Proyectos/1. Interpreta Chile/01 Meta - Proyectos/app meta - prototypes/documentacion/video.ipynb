{
 "cells": [
  {
   "cell_type": "code",
   "execution_count": 3,
   "metadata": {},
   "outputs": [],
   "source": [
    "#MODULOS DE SELENIUM\n",
    "from selenium import webdriver\n",
    "from selenium.webdriver.common.by import By\n",
    "from selenium.webdriver.common.keys import Keys\n",
    "from selenium.webdriver.support.ui import Select\n",
    "from selenium.webdriver.support.ui import WebDriverWait\n",
    "from selenium.webdriver.common.by import By\n",
    "from selenium.webdriver.common.action_chains import ActionChains\n",
    "from datetime import datetime\n",
    "\n",
    "#MODULOS SECUNDARIOS\n",
    "import pandas as pd\n",
    "import numpy as np\n",
    "import os\n",
    "import time\n",
    "import ssl\n",
    "import sys\n",
    "import traceback\n",
    "\n",
    "#MODULO ALERTAS DESACTIVADAS\n",
    "import warnings\n",
    "warnings.filterwarnings('ignore')\n",
    "\n",
    "#MODULO PROPIOS\n",
    "# from utils import modelamiento"
   ]
  },
  {
   "cell_type": "code",
   "execution_count": 4,
   "metadata": {},
   "outputs": [],
   "source": [
    "video = \"https://web.facebook.com/CanalRTU/videos/-un-deslave-en-san-francisco-de-sigsipamba-imbabura-sepult%C3%B3-una-vivienda-y-dej%C3%B3-/817455090585712/\""
   ]
  },
  {
   "cell_type": "code",
   "execution_count": null,
   "metadata": {},
   "outputs": [],
   "source": [
    "driver = webdriver.Firefox()\n",
    "driver.get(video)\n",
    "\n",
    "try:\n",
    "    time.sleep(1)\n",
    "    # Espera a que el botón sea clickeable\n",
    "    boton = driver.find_element(By.XPATH, value=\"/html/body/div[1]/div/div[1]/div/div[5]/div/div/div[1]/div/div[2]/div/div/div/div[1]/div\").click()\n",
    "    time.sleep(10)\n",
    "\n",
    "except Exception as e:\n",
    "    time.sleep(1)\n",
    "    print(\"no_button\")\n",
    "\n",
    "# Encontrar todos los elementos con la clase específica\n",
    "comentarios = driver.find_elements(By.CSS_SELECTOR,'div.xv55zj0.x1vvkbs.x1rg5ohu.xxymvpz') #CLASE DEL CONTENEDOR DE NOMBRE DE USUARIO, COMENTARIO, HORA Y REACCIONES\n",
    "\n",
    "# Extraer los textos de los comentarios\n",
    "textos_comentarios = [comentario.text for comentario in comentarios]\n",
    "\n",
    "\n"
   ]
  },
  {
   "cell_type": "code",
   "execution_count": 11,
   "metadata": {},
   "outputs": [
    {
     "data": {
      "text/plain": [
       "['Isabel Loor Viteri\\nQue pena Dios todo poderoso',\n",
       " 'Isabel Loor Viteri\\nYo creo que ponen es como Dinamita para que haga derrumbe']"
      ]
     },
     "execution_count": 11,
     "metadata": {},
     "output_type": "execute_result"
    }
   ],
   "source": [
    "textos_comentarios"
   ]
  },
  {
   "cell_type": "code",
   "execution_count": null,
   "metadata": {},
   "outputs": [],
   "source": [
    "<div class=\"xmjcpbm xtq9sad xb8kp9v x1ax42se xjt64b3 x9f619 xzsf02u x1rg5ohu xdj266r x11i5rnm xat24cr x1mh8g0r x193iq5w x1mzt3pk x1n2onr6 xeaf4i8 x13faqbe\"><div class=\"xwib8y2 xn6708d x1ye3gou x1y1aw1k\"><span class=\"xt0psk2\"><span class=\"xjp7ctv\"><a aria-hidden=\"false\" class=\"x1i10hfl xjbqb8w x1ejq31n xd10rxx x1sy0etr x17r0tee x972fbf xcfux6l x1qhh985 xm0m39n x9f619 x1ypdohk xt0psk2 xe8uvvx xdj266r x11i5rnm xat24cr x1mh8g0r xexx8yu x4uap5 x18d9i69 xkhd6sd x16tdsg8 x1hl2dhg xggy1nq x1a2a7pz x1heor9g xkrqix3 x1sur9pj x1s688f\" href=\"https://web.facebook.com/isabel.loorviteri?comment_id=Y29tbWVudDo5NDgyNDYxNjc1MTk0NzhfNjU0MTg4Mzg0MDA5NzEw&amp;__tn__=R\" role=\"link\" tabindex=\"0\" aria-describedby=\"«r24»\"><span class=\"x3nfvp2\"><span class=\"x193iq5w xeuugli x13faqbe x1vvkbs xlh3980 xvmahel x1n0sxbx x1lliihq x1s928wv xhkezso x1gmr53x x1cpjm7i x1fgarty x1943h6x x4zkp8e x676frb x1nxh6w3 x1sibtaa x1s688f xzsf02u\" dir=\"auto\">Isabel Loor Viteri</span></span></a></span></span><div class=\"x1lliihq xjkvuk6 x1iorvi4\"><span class=\"x193iq5w xeuugli x13faqbe x1vvkbs xlh3980 xvmahel x1n0sxbx x1lliihq x1s928wv xhkezso x1gmr53x x1cpjm7i x1fgarty x1943h6x xudqn12 x3x7a5m x6prxxf xvq8zen xo1l8bm xzsf02u\" dir=\"auto\" lang=\"es\"><div class=\"xdj266r x11i5rnm xat24cr x1mh8g0r x1vvkbs\"><div dir=\"auto\" style=\"text-align: start;\">Que pena Dios todo poderoso</div></div></span></div></div></div>"
   ]
  }
 ],
 "metadata": {
  "kernelspec": {
   "display_name": "Python 3",
   "language": "python",
   "name": "python3"
  },
  "language_info": {
   "codemirror_mode": {
    "name": "ipython",
    "version": 3
   },
   "file_extension": ".py",
   "mimetype": "text/x-python",
   "name": "python",
   "nbconvert_exporter": "python",
   "pygments_lexer": "ipython3",
   "version": "3.11.5"
  }
 },
 "nbformat": 4,
 "nbformat_minor": 2
}
