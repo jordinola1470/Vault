{
 "cells": [
  {
   "cell_type": "code",
   "execution_count": 1,
   "metadata": {},
   "outputs": [],
   "source": [
    "#MODULOS DE SELENIUM\n",
    "from selenium import webdriver\n",
    "from selenium.webdriver.common.by import By\n",
    "from selenium.webdriver.common.keys import Keys\n",
    "from selenium.webdriver.support.ui import Select\n",
    "from selenium.webdriver.support.ui import WebDriverWait\n",
    "from selenium.webdriver.common.by import By\n",
    "from selenium.webdriver.common.action_chains import ActionChains\n",
    "from selenium.webdriver.firefox.options import Options\n",
    "from selenium.webdriver.firefox.service import Service\n",
    "\n",
    "#MODULOS SECUNDARIOS\n",
    "import pandas as pd\n",
    "import numpy as np\n",
    "import os\n",
    "import time\n",
    "import ssl\n",
    "import sys\n",
    "import traceback\n",
    "import tempfile\n",
    "\n",
    "#MODULO ALERTAS DESACTIVADAS\n",
    "import warnings\n",
    "warnings.filterwarnings('ignore')\n",
    "\n",
    "#MODULO PROPIOS\n",
    "from funciones.utils_tiktok import scroll_page,procesar_comentarios\n",
    "from funciones.driver_manager_tiktok import ManagerDriverTiktok"
   ]
  },
  {
   "cell_type": "markdown",
   "metadata": {},
   "source": [
    "**LINKS PREPARATION**"
   ]
  },
  {
   "cell_type": "code",
   "execution_count": 2,
   "metadata": {},
   "outputs": [],
   "source": [
    "URL_TIKTOK  = pd.read_excel(r'url\\20250318_URL Videos Tiktok.xlsx')\n",
    "lista_url   = list(URL_TIKTOK['Link'])\n",
    "\n",
    "\n",
    "listas_divididas = np.array_split(lista_url, 10)  \n",
    "\n",
    "# Desempaquetar en variables independientes\n",
    "lista1, lista2, lista3,lista4, lista5, lista6,lista7, lista8, lista9,lista10 = [list(sublista) for sublista in listas_divididas]\n"
   ]
  },
  {
   "cell_type": "code",
   "execution_count": 3,
   "metadata": {},
   "outputs": [],
   "source": [
    "lista_prueba = [\n",
    "\n",
    "    'https://www.tiktok.com/@es.parod.ia/video/7375975622465604870?is_from_webapp=1',\n",
    "    'https://www.tiktok.com/@danielnoboaok/video/7430660345682758918?is_from_webapp=1',\n",
    " \n",
    " ]"
   ]
  },
  {
   "cell_type": "markdown",
   "metadata": {},
   "source": [
    "**TIK TOK SCRAPER**"
   ]
  },
  {
   "cell_type": "code",
   "execution_count": 4,
   "metadata": {},
   "outputs": [
    {
     "name": "stdout",
     "output_type": "stream",
     "text": [
      "⌛ Esperando 15 segundos para resolver CAPTCHA...\n",
      "⌛ Esperando antes de iniciar la extracción de datos...\n",
      "🔥 Proceso finalizado.\n",
      "⌛ Esperando 15 segundos para resolver CAPTCHA...\n",
      "🔽 Iniciando scroll...\n",
      "✅ No hay más contenido para cargar.\n",
      "✅ Scroll finalizado.\n",
      "⌛ Esperando antes de iniciar la extracción de datos...\n",
      "Likes:236.3K, Comments & Replies:17.2K, Shares:15.8K, Saves:9262, Music:sonido original - DanielNoboaOK\n",
      "\n",
      "Data 1: https://www.tiktok.com/@izaak_ortiz;solo la gente con cerebro sabemos lo que ha hecho este gran presidente en 10 meses;2024-10-28;9509\n",
      "Data 2: https://www.tiktok.com/@daniel_pasquel17;yo confío en mi presi ⭐ el país no se cambia de un día para otro, y yo se que va a sacar al país adelante 💪🇪🇨;2024-10-27;4702\n",
      "Data 3: https://www.tiktok.com/@mishi_quintero69;Correa se pudo llevar el dinero de los ricos pero con el si teníamos luz viva correrá 🥰;2024-10-28;1644\n",
      "Data 4: https://www.tiktok.com/@jhonjc952;Abro hilo de las obras que ha hecho Noboa:;2024-10-27;1523\n",
      "Data 5: https://www.tiktok.com/@rodolfo.italo.que;El Ecuador todo ya no cree nada la solución es Luiza;2024-10-28;1188\n",
      "Data 6: https://www.tiktok.com/@camilabula5;Tú todo lo haces bien mi amor;2024-10-27;2832\n",
      "Data 7: https://www.tiktok.com/@migueangel2008;vuelve Correa por favor;2024-10-28;820\n",
      "Data 8: https://www.tiktok.com/@miguegarcia890;total apoyo para usted sr. presidente;2024-10-27;2207\n",
      "Data 9: https://www.tiktok.com/@veritosaldarriaga23;son expertos como usted señor presidente cuando era candidato y mire como nos tiene;2024-10-28;719\n",
      "Data 10: https://www.tiktok.com/@hugoyeva_fan;10 meses de una gestión 10/10 y vamos por 4 años más Noboa presidente;2024-10-28;2025\n",
      "Data 11: https://www.tiktok.com/@santosjumb552;ya vuelve Rafael Correa hasta la victoria siempre compañeritos;2024-10-28;3216\n",
      "Data 12: https://www.tiktok.com/@revolucionrc5lamana;Y que pasó con el Preacuerdo con Israel.?? En nueve meses.... También ¿?.....;2024-10-28;511\n",
      "Data 13: https://www.tiktok.com/@lennin_ptm;Que se sentirá que el presi me salude;2024-10-27;703\n",
      "Data 14: https://www.tiktok.com/@nexaranibalcharco;vote por Noboa y créame q está ahora sigo votando botando Daniel Noboa..no se cambia un país en poco tiempo... sabemos q la falta de energía es en toda Latinoamérica....;2024-10-28;3404\n",
      "Data 15: https://www.tiktok.com/@fn0c7urn4;energía nuclear Noooooooo;2024-10-27;661\n",
      "Data 16: https://www.tiktok.com/@belen_hid;tiktoker o presidente?;2024-10-27;670\n",
      "Data 17: https://www.tiktok.com/@vicentaalcivar;Lo que se ve en su gobierno es la FALTA de EXPERIENCIA.;2024-10-28;299\n",
      "Data 18: https://www.tiktok.com/@lonely_girl818;pero ni usted sabe la solución,si no en este momento no estaríamos con 14 horas de apagones ,la gente se está quedando sin trabajo,los negocios están quebrando,;2024-10-28;195\n",
      "Data 19: https://www.tiktok.com/@erickpaladines;Me vi esa entrevista y confirmo mi voto nuevamente para Noboa y por cierto la Asamblea es una v....;2024-10-27;2425\n",
      "Data 20: https://www.tiktok.com/@james_sethh;no creo que en diciembre tengamos luz, y tampoco volveré a creer en alguien que me mintió, le di mi voto de confianza y me engaño..;2024-10-28;248\n",
      "Data 21: https://www.tiktok.com/@brigette.fxz;Y esas disque soluciones ya dio resultados? O van a dar resultados cuando estemos sin luz 24/7 o un mes antes de las nuevas elecciones?;2024-10-27;125\n",
      "Data 22: https://www.tiktok.com/@jhonnyjavier1982;Esta entrevista es solo para personas con Criterio..... Por Algo eres presidente y por Algo volverás a ser Presidente, la mayoría del pueblo ecuatoriano confía en ti Daniel 💪🏻🧏🏻‍♂️;2024-10-28;337\n",
      "Data 23: https://www.tiktok.com/@lenlen.0_2ds;Mi familia y yo votamos por ti. Y lo volveremos a hacer presi. Usted vuelve a ganar. De eso nos encargamos los verdaderos Ecuatorianos de bien y con memoria.;2024-10-28;92\n",
      "Data 24: https://www.tiktok.com/@adrenalinedeportes;yo voto por el aguante 14 años de revolución . en 9 meses no se puede comparar;2024-10-27;336\n",
      "Data 25: https://www.tiktok.com/@yarixvinces;Durante 14 años no se hicieron esa pregunta y nos dejaron dependiendo de la lluvia, a partir de este problema este gobierno debe crear nuevos proyectos que no se materializan de un día para el otro;2024-10-27;776\n",
      "Data 26: https://www.tiktok.com/@nestorfaby;Votare por utd, haya o no haya luz ✌️😅;2024-10-28;199\n",
      "Data 27: https://www.tiktok.com/@karolinalucero4;Confiamos en usted, mi Presi. A callar bocas con hechos. ¡Vamos con todo! 🙂‍↕️;2024-10-27;137\n",
      "Data 28: https://www.tiktok.com/@sandyvargas.stetic;Tranquilo señor Presidente nosotros ya conocemos su capacidad para sacar adelante al país, los otros son sólo politiqueros chimbadores de Correa;2024-10-28;187\n",
      "Data 29: https://www.tiktok.com/@juniorgn311;Y donde queda la seguridad por qué con estos cortes de 14 horas uno ya no puede ni salir ala calle por qué los ladrones están atentos y aparte no hay ni agentes de tránsito en las calles;2024-10-27;44\n",
      "Data 30: https://www.tiktok.com/@majoshalon;Señor Presidente se que este Pais va Salir adelante Dios nos va Ayudar dd esta Salimos porque Salimos este Pais es De Biodiversidad tenemos varios Climas Varias Regiones se que este Pais se convertira;2024-10-27;112\n",
      "Data 31: https://www.tiktok.com/@andresgabriel94;sabemos que 10 meses no es nada, te daré mi voto por que se que quieres lo mejor para Ecuador, y a esos de manipuladores de la izquierda nunca más.;2024-10-28;350\n",
      "Data 32: https://www.tiktok.com/@emelyma87;Al único hombre que le creo 🥺mi total apoyo presii , le di mi voto y lo seguiré haciendo 🥺saludoss 🤗;2024-10-28;387\n",
      "Data 33: https://www.tiktok.com/@dayana2004cruz;Ya pero no hay luz pues;2024-10-27;137\n",
      "Data 34: https://www.tiktok.com/@kerlygisss;Perdón por no haber venido a comentar primer, es que desde ayer no tenía luz hasta ahorita. Llegó la luz y se me fue el agua;2024-10-28;134\n",
      "Data 35: https://www.tiktok.com/@nievesceparraleslothbrok;Rey del ecuador. tu vencerás junto con Dios el pueblo el 80% confiamos en ti;2024-10-28;74\n",
      "Data 36: https://www.tiktok.com/@maisarma1234_;Tengo fe en ud mi sr presidente y con ayuda de nuestro Padre Celestial dejará mi Ecuador bien parado y cerrará bocas k ahora dicen lo contrario Dios bendiga, ptotega y cuide cada paso k da mi sr🙏🙏🙏;2024-10-28;63\n",
      "Data 37: https://www.tiktok.com/@its.aleex23;No respiraré hasta que Mi Presidente me salude🫡👋🇪🇨;2024-10-27;126\n",
      "Data 38: https://www.tiktok.com/@marigeris.villalo;contigo hasta el final ojalá llegara uno así para Venezuela;2024-10-28;37\n",
      "Data 39: https://www.tiktok.com/@carmelo.593;Dios lo guarde señor presidente;2024-10-27;47\n",
      "Data 40: https://www.tiktok.com/@angel_galarza_g;desde el día 1 debió haber previsto esto!!! hubiera sido menos la catástrofe!!!;2024-10-27;45\n",
      "🔥 Proceso finalizado.\n"
     ]
    }
   ],
   "source": [
    "for url in lista_prueba:\n",
    "    ManagerDriverTiktok( VideoURL = url)"
   ]
  },
  {
   "cell_type": "code",
   "execution_count": null,
   "metadata": {},
   "outputs": [],
   "source": []
  },
  {
   "cell_type": "markdown",
   "metadata": {},
   "source": [
    "**APPEND RESULTING BASES**"
   ]
  },
  {
   "cell_type": "code",
   "execution_count": null,
   "metadata": {},
   "outputs": [],
   "source": [
    "carpeta_comentarios = r'data'\n",
    "\n",
    "archivos = [f for f in os.listdir(carpeta_comentarios) if f.endswith((\".xlsx\",\".xls\"))]\n",
    "dataframes = []\n",
    "\n",
    "for archivo in archivos:\n",
    "    ruta_completa = os.path.join(carpeta_comentarios,archivo)\n",
    "    df = pd.read_excel(ruta_completa)\n",
    "    dataframes.append(df)\n",
    "\n",
    "df_comentario = pd.concat(dataframes,ignore_index=True)\n",
    "df_comentario.to_excel('tiktok_comentarios.xlsx',index=True)"
   ]
  },
  {
   "cell_type": "code",
   "execution_count": null,
   "metadata": {},
   "outputs": [],
   "source": [
    "carpeta_videos = r'data'\n",
    "\n",
    "archivos = [f for f in os.listdir(carpeta_videos) if f.endswith((\".xlsx\",\".xls\"))]\n",
    "dataframes = []\n",
    "\n",
    "for archivo in archivos:\n",
    "    ruta_completa = os.path.join(carpeta_videos,archivo)\n",
    "    df = pd.read_excel(ruta_completa)\n",
    "    dataframes.append(df)\n",
    "\n",
    "df_video = pd.concat(dataframes,ignore_index=False)\n",
    "df_video.to_excel('tiktok_video_stats.xlsx',index=False)"
   ]
  },
  {
   "cell_type": "markdown",
   "metadata": {},
   "source": [
    "**PRUEBAS**"
   ]
  }
 ],
 "metadata": {
  "kernelspec": {
   "display_name": "Python 3",
   "language": "python",
   "name": "python3"
  },
  "language_info": {
   "codemirror_mode": {
    "name": "ipython",
    "version": 3
   },
   "file_extension": ".py",
   "mimetype": "text/x-python",
   "name": "python",
   "nbconvert_exporter": "python",
   "pygments_lexer": "ipython3",
   "version": "3.11.5"
  }
 },
 "nbformat": 4,
 "nbformat_minor": 2
}
