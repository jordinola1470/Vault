{
 "cells": [
  {
   "cell_type": "code",
   "execution_count": 1,
   "metadata": {},
   "outputs": [],
   "source": [
    "import pandas as pd\n",
    "import subprocess"
   ]
  },
  {
   "cell_type": "code",
   "execution_count": 3,
   "metadata": {},
   "outputs": [],
   "source": [
    "#CONVERTIR LAS LOS URL EN UNA LISTA .TXT\n",
    "\n",
    "url_excel = pd.read_excel(r\"url_videos\\lista_videos_tiktok\\20250313 - Listado primer tester TikTok.xlsx\")\n",
    "list_url  = list(url_excel['Link'])\n",
    "\n",
    "# with open('links_tiktok_video.txt','w') as file:\n",
    "#     for url in list_url:\n",
    "#         file.write(url + '\\n')"
   ]
  },
  {
   "cell_type": "code",
   "execution_count": 4,
   "metadata": {},
   "outputs": [],
   "source": [
    "import subprocess\n",
    "\n",
    "carpeta_descarga = \"url_videos/videos_tiktok\"\n",
    "formato_nombre = \"%(id)s.%(ext)s\"  # Usa el ID del video como nombre\n",
    "\n",
    "for url in list_url:\n",
    "    subprocess.run([\"yt-dlp\", \"-P\", carpeta_descarga, \"-o\", formato_nombre, url])"
   ]
  }
 ],
 "metadata": {
  "kernelspec": {
   "display_name": "Python 3",
   "language": "python",
   "name": "python3"
  },
  "language_info": {
   "codemirror_mode": {
    "name": "ipython",
    "version": 3
   },
   "file_extension": ".py",
   "mimetype": "text/x-python",
   "name": "python",
   "nbconvert_exporter": "python",
   "pygments_lexer": "ipython3",
   "version": "3.11.5"
  }
 },
 "nbformat": 4,
 "nbformat_minor": 2
}
