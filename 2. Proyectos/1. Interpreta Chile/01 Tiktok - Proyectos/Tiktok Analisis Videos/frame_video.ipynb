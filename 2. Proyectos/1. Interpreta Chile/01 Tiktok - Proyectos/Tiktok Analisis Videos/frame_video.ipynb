{
 "cells": [
  {
   "cell_type": "code",
   "execution_count": null,
   "metadata": {},
   "outputs": [],
   "source": [
    "import os\n",
    "import glob\n",
    "from moviepy.editor import VideoFileClip\n",
    "from PIL import Image\n"
   ]
  },
  {
   "cell_type": "code",
   "execution_count": null,
   "metadata": {},
   "outputs": [],
   "source": [
    "# pip list | findstr moviepy¿"
   ]
  },
  {
   "cell_type": "code",
   "execution_count": null,
   "metadata": {},
   "outputs": [],
   "source": [
    "#Carpeta donde están los videos descargados\n",
    "carpeta_videos = r\"url_videos\\videos_tiktok\"\n",
    "carpeta_frames = r\"video_frames\""
   ]
  },
  {
   "cell_type": "code",
   "execution_count": null,
   "metadata": {},
   "outputs": [],
   "source": [
    "#PROCESO DE FRAMING / 5\n",
    "\n",
    "os.makedirs(carpeta_frames, exist_ok=True)\n",
    "\n",
    "# 🔍 Obtener lista de videos en la carpeta\n",
    "videos = glob.glob(os.path.join(carpeta_videos, \"*.mp4\"))  # Filtra solo archivos .mp4\n",
    "\n",
    "for video_path in videos:\n",
    "    # 📄 Nombre del archivo sin extensión\n",
    "    video_name = os.path.splitext(os.path.basename(video_path))[0]\n",
    "\n",
    "    # 📂 Crear carpeta para los frames de este video\n",
    "    carpeta_video = os.path.join(carpeta_frames, video_name)\n",
    "    os.makedirs(carpeta_video, exist_ok=True)\n",
    "\n",
    "    # 📽️ Cargar video con MoviePy\n",
    "    try:\n",
    "        clip = VideoFileClip(video_path)\n",
    "    except Exception as e:\n",
    "        print(f\"❌ No se pudo abrir el video: {video_name} - {e}\")\n",
    "        continue\n",
    "\n",
    "    # ⏳ Obtener duración total del video\n",
    "    duration = clip.duration\n",
    "\n",
    "    # 📌 Si el video no tiene duración válida, lo saltamos\n",
    "    if duration is None or duration <= 0:\n",
    "        print(f\"⚠️ Video vacío o corrupto: {video_name}\")\n",
    "        continue\n",
    "\n",
    "    # 📌 Si la duración es muy corta, ajustar el número de frames\n",
    "    num_frames = min(5, int(duration))  # Si el video dura menos de 3s, ajustar\n",
    "\n",
    "    # 📸 Extraer 3 frames distribuidos a lo largo del video\n",
    "    time_intervals = [duration * n / (num_frames + 1) for n in range(1, num_frames + 1)]\n",
    "\n",
    "    for i, t in enumerate(time_intervals):\n",
    "        frame = clip.get_frame(t)  # Obtener el frame en el tiempo t\n",
    "        frame_path = os.path.join(carpeta_video, f\"frame_{i+1}.jpg\")\n",
    "        Image.fromarray(frame).save(frame_path)\n",
    "        print(f\"✅ Guardado {frame_path}\")\n",
    "\n",
    "    clip.close()  # 🛑 Liberar recursos\n",
    "\n",
    "print(\"🎉 ¡Proceso completado!\")\n"
   ]
  }
 ],
 "metadata": {
  "kernelspec": {
   "display_name": "Python 3",
   "language": "python",
   "name": "python3"
  },
  "language_info": {
   "codemirror_mode": {
    "name": "ipython",
    "version": 3
   },
   "file_extension": ".py",
   "mimetype": "text/x-python",
   "name": "python",
   "nbconvert_exporter": "python",
   "pygments_lexer": "ipython3",
   "version": "3.11.5"
  }
 },
 "nbformat": 4,
 "nbformat_minor": 2
}
