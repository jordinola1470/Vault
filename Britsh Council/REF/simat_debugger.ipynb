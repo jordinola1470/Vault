{
 "cells": [
  {
   "cell_type": "code",
   "execution_count": null,
   "metadata": {},
   "outputs": [],
   "source": [
    "import pandas as pd\n",
    "import numpy as np\n",
    "\n",
    "from warnings import filterwarnings\n",
    "filterwarnings('ignore')\n"
   ]
  },
  {
   "cell_type": "code",
   "execution_count": null,
   "metadata": {},
   "outputs": [],
   "source": [
    "#SIMAT 070425 - TOMAR EN CONSIDERACION PARA UNIANDES\n",
    "\n",
    "simat = pd.read_excel('Documentation/SIMAT_07042025.xlsx')\n",
    "simat = simat[simat['GRADO_COD'].isin([4, 5, 6, 7, 8, 9, 10, 11])][['INSTITUCION', 'DANE','CODIGO_DANE_SEDE','GRADO_COD', 'GRUPO','GENERO']]\n",
    "simat.head(2)"
   ]
  },
  {
   "cell_type": "code",
   "execution_count": null,
   "metadata": {},
   "outputs": [],
   "source": [
    "students_GK = pd.read_excel('220425_students.xlsx',sheet_name='GK')\n",
    "students_AS = pd.read_excel('220425_students.xlsx',sheet_name='AS')\n",
    "students_IM = pd.read_excel('220425_students.xlsx',sheet_name='IMP')\n",
    "\n",
    "students = pd.concat([students_GK,students_AS,students_IM])[['DANE','IED','LINE']]\n",
    "\n",
    "students['index'] = 1 \n",
    "students = students.pivot_table(index=['DANE'],columns='LINE',values='index',aggfunc=sum).fillna(0).reset_index()"
   ]
  },
  {
   "cell_type": "code",
   "execution_count": null,
   "metadata": {},
   "outputs": [],
   "source": [
    "students"
   ]
  },
  {
   "cell_type": "code",
   "execution_count": null,
   "metadata": {},
   "outputs": [],
   "source": [
    "students_gender = pd.merge(left=students,left_on='DANE',right=simat,right_on='DANE',how='left')\n",
    "students_gender['index'] = 1\n",
    "students_gender = students_gender.pivot_table(index=['DANE','AS','GK','IM','INSTITUCION','GRADO_COD'],columns='GENERO',values='index',aggfunc=sum).fillna(0).reset_index()\n",
    "\n",
    "# students_gender.to_excel('220425_students_gender.xlsx',index=False)\n",
    "students_gender\n"
   ]
  },
  {
   "cell_type": "code",
   "execution_count": null,
   "metadata": {},
   "outputs": [],
   "source": [
    "std_ByGrade = students_gender.groupby('GRADO_COD').sum()[['FEMENINO','MASCULINO']].reset_index()\n",
    "std_ByGrade"
   ]
  },
  {
   "cell_type": "code",
   "execution_count": null,
   "metadata": {},
   "outputs": [],
   "source": []
  }
 ],
 "metadata": {
  "kernelspec": {
   "display_name": "Python 3",
   "language": "python",
   "name": "python3"
  },
  "language_info": {
   "codemirror_mode": {
    "name": "ipython",
    "version": 3
   },
   "file_extension": ".py",
   "mimetype": "text/x-python",
   "name": "python",
   "nbconvert_exporter": "python",
   "pygments_lexer": "ipython3",
   "version": "3.11.5"
  }
 },
 "nbformat": 4,
 "nbformat_minor": 2
}
