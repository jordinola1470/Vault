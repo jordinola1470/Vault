{
 "cells": [
  {
   "cell_type": "code",
   "execution_count": null,
   "metadata": {},
   "outputs": [],
   "source": [
    "#MODULOS\n",
    "import pandas as pd\n",
    "\n",
    "import ssl\n",
    "import time\n",
    "import sys\n",
    "\n",
    "from selenium import webdriver\n",
    "from selenium.common.exceptions import NoSuchElementException\n",
    "from selenium.webdriver.common.keys import Keys\n",
    "from selenium.webdriver.common.by import By\n",
    "\n",
    "from funciones.utils_tiktok import barra_carga,scroll_down,scroll_down_times"
   ]
  },
  {
   "cell_type": "code",
   "execution_count": 2,
   "metadata": {},
   "outputs": [],
   "source": [
    "#CONFIGURACION DE SSL Y OPCIONES DEL DRIVER EN SELENIUM\n",
    "\n",
    "'''Protocolos SSL'''\n",
    "ctx = ssl.create_default_context()\n",
    "ctx.check_hostname = False\n",
    "ctx.verify_mode = ssl.CERT_NONE\n",
    "\n",
    "'''\n",
    "OBJETO DRIVER \n",
    "- OPCIONES \n",
    "- URL \n",
    "'''\n",
    "\n",
    "#Opciones Firefox\n",
    "firefox_profile = webdriver.FirefoxOptions()\n",
    "firefox_profile.set_preference(\"browser.download.folderList\", 2)\n",
    "firefox_profile.set_preference(\"browser.download.dir\", 'descargas')\n",
    "firefox_profile.set_preference(\"browser.helperApps.neverAsk.saveToDisk\", \"application/pdf\")\n",
    "\n",
    "#Navegador Firefox con el perfil configurado\n",
    "driver = webdriver.Firefox(options=firefox_profile)\n",
    "\n",
    "#Instancia driver -  Acceso a la URL\n",
    "PAGINA_URL = 'https://www.tiktok.com/@305.military/video/7348087459776908574?lang=en'\n",
    "driver.get(PAGINA_URL)"
   ]
  },
  {
   "cell_type": "code",
   "execution_count": 3,
   "metadata": {},
   "outputs": [],
   "source": [
    "#VALIDACION - FUNCION\n",
    "def validacion(driver,seccion_comments):\n",
    "    try:\n",
    "        barra_carga(10,'ACCESS SUCCESFULL\\n')\n",
    "        scroll_down_times(driver,3)\n",
    "        driver.find_element(By.XPATH, value = seccion_comments +'1]')\n",
    "        print('SeccionComentario Encontrada')\n",
    "    except: print('SeccionComentario NO ENCONTRADA')\n",
    "\n",
    "    try:\n",
    "        barra_carga(10,'ACCESS SUCCESFULL\\n')\n",
    "        scroll_down_times(driver,3)\n",
    "        driver.find_element(By.XPATH, value = '/html/body/div[1]/div[2]/div[2]/div/div[2]/div[1]/div[2]/div[2]/div/div[1]/div/div[1]/a/span').text\n",
    "        print('UserName Encontrado')\n",
    "    except:\n",
    "        print('UserName NO ENCONTRADO')\n",
    "    \n",
    "    return None"
   ]
  },
  {
   "cell_type": "code",
   "execution_count": null,
   "metadata": {},
   "outputs": [
    {
     "name": "stdout",
     "output_type": "stream",
     "text": [
      "\b12345678910 ---- 100% ACCESS SUCCESFULL\n",
      "No hay más contenido para cargar. Deteniendo el scroll.\n",
      "SeccionComentario Encontrada\n",
      "\b12345678910 ---- 100% ACCESS SUCCESFULL\n",
      "Scroll 1/3: desplazado a 4662\n",
      "Scroll 2/3: desplazado a 6355\n",
      "No hay más contenido para cargar. Deteniendo el scroll.\n",
      "UserName Encontrado\n"
     ]
    }
   ],
   "source": [
    "''' \n",
    "VALIDACION \n",
    "  - Funcionamiento de acceso a la URL, navegacion y captura de segmentos del en X.Path\n",
    "'''\n",
    "seccion_comments  = '/html/body/div[1]/div[2]/div[2]/div/div[2]/div[1]/div[2]/div[2]/div/div['\n",
    "comment_second    = '/html/body/div[1]/div[2]/div[2]/div/div[2]/div[1]/div[2]/div[2]/div[2]'\n",
    "comment_container = '/html/body/div[1]/div[2]/div[2]/div/div[2]/div[1]/div[2]/div[2]'\n",
    "comment_firts     = '/html/body/div[1]/div[2]/div[2]/div/div[2]/div[1]/div[2]/div[2]/div[1]'\n",
    "comment_third     = '/html/body/div[1]/div[2]/div[2]/div/div[2]/div[1]/div[2]/div[2]/div[3]'\n",
    "\n",
    "validacion(driver,seccion_comments)"
   ]
  }
 ],
 "metadata": {
  "kernelspec": {
   "display_name": "Python 3",
   "language": "python",
   "name": "python3"
  },
  "language_info": {
   "codemirror_mode": {
    "name": "ipython",
    "version": 3
   },
   "file_extension": ".py",
   "mimetype": "text/x-python",
   "name": "python",
   "nbconvert_exporter": "python",
   "pygments_lexer": "ipython3",
   "version": "3.11.5"
  }
 },
 "nbformat": 4,
 "nbformat_minor": 2
}
