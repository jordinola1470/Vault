{
 "cells": [
  {
   "cell_type": "code",
   "execution_count": 1,
   "metadata": {},
   "outputs": [],
   "source": [
    "#MODULOS DE SELENIUM\n",
    "from selenium import webdriver\n",
    "from selenium.webdriver.common.by import By\n",
    "from selenium.webdriver.common.keys import Keys\n",
    "from selenium.webdriver.support.ui import Select\n",
    "from selenium.webdriver.chrome.options import Options\n",
    "from selenium.webdriver.support.ui import WebDriverWait\n",
    "from selenium.webdriver.chrome.service import Service\n",
    "from webdriver_manager.chrome import ChromeDriverManager\n",
    "from selenium.webdriver.common.by import By\n",
    "from selenium.webdriver.common.action_chains import ActionChains\n",
    "\n",
    "#MODULOS SECUNDARIOS\n",
    "import pandas as pd\n",
    "import numpy as np\n",
    "import os\n",
    "import re\n",
    "import time\n",
    "import ssl\n",
    "import sys\n",
    "import math\n",
    "import traceback\n",
    "\n",
    "\n",
    "#MODULO ALERTAS DESACTIVADAS\n",
    "import warnings\n",
    "warnings.filterwarnings('ignore')\n",
    "\n",
    "#MODULO PROPIOS\n",
    "from funciones_primarias import validacion\n",
    "from funciones_secundarias import barra_carga,scroll_down"
   ]
  },
  {
   "cell_type": "code",
   "execution_count": 2,
   "metadata": {},
   "outputs": [],
   "source": [
    "'''Protocoloes SSL'''\n",
    "ctx = ssl.create_default_context()\n",
    "ctx.check_hostname = False\n",
    "ctx.verify_mode = ssl.CERT_NONE"
   ]
  },
  {
   "cell_type": "code",
   "execution_count": 3,
   "metadata": {},
   "outputs": [],
   "source": [
    "\n",
    "'''\n",
    "OBJETO DRIVER \n",
    "    - Opciones \n",
    "    - URL\n",
    "'''\n",
    "\n",
    "#Opciones Chrome\n",
    "chrome_options = Options()\n",
    "chrome_options.add_experimental_option(\"prefs\", {\n",
    "  \"download.prompt_for_download\": False,\n",
    "  \"download.directory_upgrade\": True,\n",
    "  \"safebrowsing.enabled\": True\n",
    "  })\n",
    "\n",
    "#Instancia driver -  Acceso a la URL\n",
    "\n",
    "INSTAGRAM_URL = 'https://www.instagram.com/reel/Cv-e8k2pvaq/?igshid=MTc4MmM1YmI2Ng%3D%3D'\n",
    "PAGINA_URL    = 'https://www.instagram.com/'\n",
    "\n",
    "driver = webdriver.Chrome(service = Service(ChromeDriverManager().install()))\n",
    "driver.get(PAGINA_URL)\n",
    "\n",
    "time.sleep(5)\n",
    "\n"
   ]
  },
  {
   "cell_type": "code",
   "execution_count": 4,
   "metadata": {},
   "outputs": [
    {
     "name": "stdout",
     "output_type": "stream",
     "text": [
      "\b12345678910-------------]\n",
      "Acceso Exitoso\n"
     ]
    }
   ],
   "source": [
    "'''ACCESO A LA CUENTA'''\n",
    "\n",
    "# Encuentra los campos de entrada para el nombre de usuario y la contraseña\n",
    "username_input = driver.find_element(By.XPATH, value = \"//input[@name='username']\")\n",
    "password_input = driver.find_element(By.XPATH, value = \"//input[@name='password']\")\n",
    "\n",
    "# Ingresa tus credenciales de inicio de sesión\n",
    "username_input.send_keys(\"j.alonsoordinola@gmail.com\")\n",
    "password_input.send_keys(\"Libertad5%\")\n",
    "\n",
    "# Envía el formulario de inicio de sesión\n",
    "password_input.send_keys(Keys.RETURN)\n",
    "\n",
    "# Espera un momento para el inicio de sesión\n",
    "barra_carga(10)\n",
    "print('Acceso Exitoso')\n"
   ]
  },
  {
   "cell_type": "code",
   "execution_count": 5,
   "metadata": {},
   "outputs": [
    {
     "name": "stdout",
     "output_type": "stream",
     "text": [
      "\b12345678910-------------]\n",
      "Post Cargado\n"
     ]
    }
   ],
   "source": [
    "'''ACCESO A EL POST AL CUAL SE LE EXTRAERAN LOS COMENTARIOS'''\n",
    "\n",
    "driver.get(INSTAGRAM_URL)\n",
    "driver.maximize_window()\n",
    "barra_carga(10)\n",
    "print('Post Cargado')"
   ]
  },
  {
   "cell_type": "code",
   "execution_count": 6,
   "metadata": {},
   "outputs": [],
   "source": [
    "# '''Prueba de click en la pantalla/DELL 15'''\n",
    "# actions = ActionChains(driver)\n",
    "\n",
    "# # Mueve el mouse a una posición específica relativa al punto actual del mouse\n",
    "# # En este ejemplo, moveremos el mouse 100 píxeles a la derecha y 50 píxeles hacia abajo\n",
    "# actions.move_by_offset(650, 690)\n",
    "\n",
    "# # Realiza un clic derecho en la ubicación actual del mouse\n",
    "# actions.context_click()\n",
    "\n",
    "# # Ejecuta las acciones\n",
    "# actions.perform()\n",
    "\n",
    "# # # Usa JavaScript para obtener las coordenadas del mouse\n",
    "# # x_coord = driver.execute_script(\"return window.scrollX + arguments[0];\", 100)\n",
    "# # y_coord = driver.execute_script(\"return window.scrollY + arguments[0];\", 50)\n",
    "\n",
    "# # # Imprime las coordenadas del mouse\n",
    "# # print(f\"Coordenadas del mouse - X: {x_coord}, Y: {y_coord}\")"
   ]
  },
  {
   "cell_type": "code",
   "execution_count": null,
   "metadata": {},
   "outputs": [],
   "source": []
  },
  {
   "cell_type": "code",
   "execution_count": 7,
   "metadata": {},
   "outputs": [
    {
     "name": "stdout",
     "output_type": "stream",
     "text": [
      "SeccionComentario Encontrada <selenium.webdriver.remote.webelement.WebElement (session=\"8a9f6f102e3297deba6c6628606cd95d\", element=\"5DD6C66C8EAE9AC670FA2339C032B43B_element_150\")>\n",
      "\b1234567891011121314151617181920-------------]\n"
     ]
    }
   ],
   "source": [
    "''' \n",
    "VALIDACION \n",
    "\n",
    "Funcionamiento de acceso a la URL, navegacion y captura de segmentos del en X.Path\n",
    "Prueba del Scroll y de la Estrategia de Espera para la carga de mensajes\n",
    "\n",
    "'''\n",
    "\n",
    "#ubicar el primer comentario que se encuentra en la pagina, es decir el primer\n",
    "#contenedor dentro de contenedor macro, esto para tener el punto de referencia de :\n",
    "#donde se encuentra el bloque de comentarios y donde inicia\n",
    "\n",
    "seccion_comments = '/html/body/div[2]/div/div/div[2]/div/div/div/div[1]/div[1]/div[2]/section/main/div/div[1]/div/div[2]/div/div[2]/div/div/div['\n",
    "\n",
    "try:\n",
    "    driver.find_element(By.XPATH, value = seccion_comments +'1]')\n",
    "    print('SeccionComentario Encontrada',driver.find_element(By.XPATH, value = seccion_comments +'1]'))\n",
    "except: print('nada')\n",
    "\n",
    "barra_carga(20)"
   ]
  },
  {
   "cell_type": "code",
   "execution_count": null,
   "metadata": {},
   "outputs": [],
   "source": [
    "#VARIABLES PARA EL SCRAPING\n",
    "comentarios_recorridos = list()\n",
    "centinela = True\n",
    "comment_externo = 1\n",
    "comment_interno = 1\n",
    "base_final = pd.DataFrame()\n",
    "\n",
    "\n",
    "while centinela == True:\n",
    "    try:\n",
    "        \n",
    "        try:\n",
    "            driver.find_element(By.XPATH, value= '/html/body/div[2]/div/div/div[2]/div/div/div/div[1]/div[1]/div[2]/section/main/div/div[1]/div/div[2]/div/div[2]/div/div/div[1]/div/div[2]/div/span/div/div/span[1]/div/a')\n",
    "            print('Nombre de Usuario')\n",
    "            time.sleep(30)\n",
    "        except:\n",
    "            pass\n",
    "\n",
    "        # Level 1 comment principal\n",
    "        level = 1\n",
    "        # Detectar el DISPLAY NAME del usuario\n",
    "        try:\n",
    "            display_name = driver.find_element(By.XPATH, value = seccion_comments + str(comment_externo) + \"]/ytd-comment-renderer/div[3]/div[2]/div[1]/div[2]/h3/a/span\").text\n",
    "            print(display_name)\n",
    "        except:\n",
    "            centinela = False\n",
    "            break\n",
    "\n",
    "        try:    \n",
    "        # Detectar NOMBRE DE USUARIO (toma como punto de referencia en Display Name del bloque anterior)\n",
    "            username_thread = driver.find_element(by=By.PARTIAL_LINK_TEXT,value=display_name).get_attribute(\"href\")\n",
    "        # Detectar comment principal\n",
    "            comment = driver.find_element(By.XPATH, value = seccion_comments + str(comment_externo) + \"]/ytd-comment-renderer/div[3]/div[2]/div[2]/ytd-expander/div/yt-formatted-string\").text\n",
    "    #         # Detectar fecha\n",
    "    #         fecha = driver.find_element(By.XPATH, value = seccion_comments + str(comment_externo) + \"]/div[1]/div[1]/p[2]/span[1]\").text\n",
    "    #         # Detectar número de likes\n",
    "    #         likes = driver.find_element(By.XPATH, value = seccion_comments + str(comment_externo) + \"]/div[1]/div[1]/p[2]/div/span\").text\n",
    "            print(str(comment))\n",
    "\n",
    "        except:\n",
    "            username_thread = driver.find_element(by=By.PARTIAL_LINK_TEXT,value=display_name).get_attribute(\"href\")\n",
    "            # Detectar comment principal\n",
    "            comment = driver.find_element(By.XPATH, value = seccion_comments + str(comment_externo) + \"]/ytd-comment-renderer/div[3]/div[2]/div[2]/ytd-expander/div/yt-formatted-string\").text\n",
    "            print( 'Extraccion dos'+ str(comment))    \n",
    "\n",
    "        # Creacion de Dataframe con los datos de cada comentario, y la base previa \n",
    "        d = {\"level\": level, \"display_name\": display_name, \"username\":username_thread, \"comment\":comment}\n",
    "        base_temporal = pd.DataFrame(data=d,index=[comment_externo])\n",
    "        base_final = pd.concat([base_final, base_temporal], ignore_index=True)\n",
    "    \n",
    "        # Actualizacion del loop para continuar con el recorrido\n",
    "        comentarios_recorridos.append(comment_externo)\n",
    "        comment_externo = comment_externo + 1\n",
    "        print(\"Acabé el comment \" + str(comment_externo - 1) + ' perteneciente al usuario: ' + str(display_name))\n",
    "        \n",
    "        x=0\n",
    "        driver.execute_script('scrollBy(0,150)')\n",
    "        time.sleep(5)\n",
    "        \n",
    "    except Exception as e:\n",
    "        traceback.print_exc()\n",
    "        time.sleep(50)\n",
    "        scroll_down(3, 1, 850,driver)\n",
    "        # with open(r'C:\\Users\\JOSE\\Desktop\\Trabajo\\BX\\Tiktok\\progreso.txt', 'w') as fp:\n",
    "        #     fp.write(str(comentarios_recorridos[-1]))\n",
    "        print(f'Error {type(e)}: e')\n",
    "        # base_final.to_excel('Base_tiktok_medicossinfronteras.xlsx')\n",
    "        \n",
    "print('CARGA COMPLETA')\n",
    "\n",
    "driver.quit()\n",
    "\n",
    "base_final.to_excel('base_youtube_cuchicheo_05.xlsx')   "
   ]
  },
  {
   "cell_type": "code",
   "execution_count": null,
   "metadata": {},
   "outputs": [],
   "source": [
    "cuchi01 = pd.read_excel('base_youtube_cuchicheo_01.xlsx')\n",
    "cuchi02 = pd.read_excel('base_youtube_cuchicheo_02.xlsx')\n",
    "cuchi03 = pd.read_excel('base_youtube_cuchicheo_03.xlsx')\n",
    "cuchi04 = pd.read_excel('base_youtube_cuchicheo_04.xlsx')\n",
    "cuchi05 = pd.read_excel('base_youtube_cuchicheo_05.xlsx')\n",
    "\n",
    "base_consolidada_youtube_cuchicheo = pd.concat([cuchi01,cuchi02,cuchi03,cuchi03,cuchi04,cuchi05])\n",
    "base_consolidada_youtube_cuchicheo.to_excel('base_consolidada_youtube_cuchicheo.xlsx',index=False)"
   ]
  }
 ],
 "metadata": {
  "kernelspec": {
   "display_name": "Python 3",
   "language": "python",
   "name": "python3"
  },
  "language_info": {
   "codemirror_mode": {
    "name": "ipython",
    "version": 3
   },
   "file_extension": ".py",
   "mimetype": "text/x-python",
   "name": "python",
   "nbconvert_exporter": "python",
   "pygments_lexer": "ipython3",
   "version": "3.11.5"
  },
  "orig_nbformat": 4,
  "vscode": {
   "interpreter": {
    "hash": "40d3a090f54c6569ab1632332b64b2c03c39dcf918b08424e98f38b5ae0af88f"
   }
  }
 },
 "nbformat": 4,
 "nbformat_minor": 2
}
