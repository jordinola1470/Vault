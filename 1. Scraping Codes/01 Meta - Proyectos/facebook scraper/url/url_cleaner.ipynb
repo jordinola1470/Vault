{
 "cells": [
  {
   "cell_type": "code",
   "execution_count": null,
   "metadata": {},
   "outputs": [],
   "source": [
    "import pandas as pd\n",
    "import warnings\n",
    "warnings.filterwarnings('ignore')"
   ]
  },
  {
   "cell_type": "code",
   "execution_count": null,
   "metadata": {},
   "outputs": [],
   "source": [
    "df_01 = pd.read_csv(\"facebook_inst_batch01.csv\", sep=\";\", engine=\"python\")\n",
    "df_02 = pd.read_csv(\"facebook_inst_batch02.csv\", sep=\";\", engine=\"python\")\n",
    "df_03 = pd.read_csv(\"facebook_inst_batch03.csv\", sep=\";\", engine=\"python\")  "
   ]
  },
  {
   "cell_type": "code",
   "execution_count": null,
   "metadata": {},
   "outputs": [],
   "source": [
    "df_01.columns"
   ]
  },
  {
   "cell_type": "code",
   "execution_count": null,
   "metadata": {},
   "outputs": [],
   "source": [
    "def limpieza(df):\n",
    "\n",
    "    df = df[df[df.columns[3]].str.count(\"_\") == 1] \n",
    "    # df[col] = df[col].astype(str)  # fuerza a string\n",
    "    df[\"url_facebook\"] = df[df.columns[3]].apply(lambda x: f\"https://www.facebook.com/{x.replace('_', '/posts/')}\")\n",
    "\n",
    "    return df"
   ]
  },
  {
   "cell_type": "code",
   "execution_count": null,
   "metadata": {},
   "outputs": [],
   "source": [
    "batch_01, batch_02,batch_03 = limpieza(df_01),limpieza(df_02),limpieza(df_03)\n",
    "df = pd.concat([batch_01, batch_02,batch_03])"
   ]
  },
  {
   "cell_type": "code",
   "execution_count": 35,
   "metadata": {},
   "outputs": [],
   "source": [
    "URL_POST = df[\"url_facebook\"].to_excel(\"URL_POST.xlsx\",index=False)"
   ]
  },
  {
   "cell_type": "code",
   "execution_count": 36,
   "metadata": {},
   "outputs": [],
   "source": [
    "URL_POST"
   ]
  }
 ],
 "metadata": {
  "kernelspec": {
   "display_name": "Python 3",
   "language": "python",
   "name": "python3"
  },
  "language_info": {
   "codemirror_mode": {
    "name": "ipython",
    "version": 3
   },
   "file_extension": ".py",
   "mimetype": "text/x-python",
   "name": "python",
   "nbconvert_exporter": "python",
   "pygments_lexer": "ipython3",
   "version": "3.11.5"
  }
 },
 "nbformat": 4,
 "nbformat_minor": 2
}
